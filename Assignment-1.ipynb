{
 "cells": [
  {
   "cell_type": "code",
   "execution_count": 1,
   "id": "fb97e718-0be8-4a73-9e0d-d01e266b3490",
   "metadata": {},
   "outputs": [],
   "source": [
    "a='pwskill'"
   ]
  },
  {
   "cell_type": "code",
   "execution_count": 2,
   "id": "81bf052c-81b1-452c-9481-7f2a01ace3dd",
   "metadata": {},
   "outputs": [
    {
     "data": {
      "text/plain": [
       "str"
      ]
     },
     "execution_count": 2,
     "metadata": {},
     "output_type": "execute_result"
    }
   ],
   "source": [
    "type(a)"
   ]
  },
  {
   "cell_type": "code",
   "execution_count": 3,
   "id": "79c44c72-70a3-4d20-96c0-88c5ad6e59de",
   "metadata": {},
   "outputs": [],
   "source": [
    "l=[2,3,4,'pwskill',34.65,4+5j,True]"
   ]
  },
  {
   "cell_type": "code",
   "execution_count": 4,
   "id": "e7eff45e-38fe-448a-bbcb-ab20e38e98ef",
   "metadata": {},
   "outputs": [
    {
     "data": {
      "text/plain": [
       "list"
      ]
     },
     "execution_count": 4,
     "metadata": {},
     "output_type": "execute_result"
    }
   ],
   "source": [
    "type(l)"
   ]
  },
  {
   "cell_type": "code",
   "execution_count": 5,
   "id": "d65f58bc-3f66-428d-87d4-048cb1d6554d",
   "metadata": {},
   "outputs": [],
   "source": [
    "f=56.76"
   ]
  },
  {
   "cell_type": "code",
   "execution_count": null,
   "id": "07f8ad4c-92fb-42e0-be59-a4390469afeb",
   "metadata": {},
   "outputs": [],
   "source": []
  },
  {
   "cell_type": "code",
   "execution_count": 6,
   "id": "27cc6004-433e-4259-bee4-6835a0fa7a0d",
   "metadata": {},
   "outputs": [
    {
     "data": {
      "text/plain": [
       "float"
      ]
     },
     "execution_count": 6,
     "metadata": {},
     "output_type": "execute_result"
    }
   ],
   "source": [
    "type(f)"
   ]
  },
  {
   "cell_type": "code",
   "execution_count": 9,
   "id": "d9b2d63c-85ad-4619-8d35-3893aaf59f1a",
   "metadata": {},
   "outputs": [],
   "source": [
    "b=True,False"
   ]
  },
  {
   "cell_type": "code",
   "execution_count": 10,
   "id": "cc9a815b-b201-4ec9-bb15-14d40036476d",
   "metadata": {},
   "outputs": [
    {
     "data": {
      "text/plain": [
       "tuple"
      ]
     },
     "execution_count": 10,
     "metadata": {},
     "output_type": "execute_result"
    }
   ],
   "source": [
    "type(b)"
   ]
  },
  {
   "cell_type": "code",
   "execution_count": 11,
   "id": "13c97fdd-40a5-4598-9400-78e0517cfc37",
   "metadata": {},
   "outputs": [],
   "source": [
    "var1=''"
   ]
  },
  {
   "cell_type": "code",
   "execution_count": 12,
   "id": "f14bb8a1-403e-43ea-8b56-eb2ac6c95d09",
   "metadata": {},
   "outputs": [
    {
     "data": {
      "text/plain": [
       "str"
      ]
     },
     "execution_count": 12,
     "metadata": {},
     "output_type": "execute_result"
    }
   ],
   "source": [
    "type(var1)"
   ]
  },
  {
   "cell_type": "code",
   "execution_count": 13,
   "id": "b9a2ea11-0539-4cbe-bef6-95343c9aa870",
   "metadata": {},
   "outputs": [],
   "source": [
    "var2='[DS,ML,Python]'"
   ]
  },
  {
   "cell_type": "code",
   "execution_count": 14,
   "id": "10744735-e931-4f0d-9ef0-352a44660005",
   "metadata": {},
   "outputs": [
    {
     "data": {
      "text/plain": [
       "str"
      ]
     },
     "execution_count": 14,
     "metadata": {},
     "output_type": "execute_result"
    }
   ],
   "source": [
    "type(var2)"
   ]
  },
  {
   "cell_type": "code",
   "execution_count": 15,
   "id": "bfdcbcb0-57d5-435f-beb8-79324d65f8b6",
   "metadata": {},
   "outputs": [],
   "source": [
    "var3=['DS','ML','Python']"
   ]
  },
  {
   "cell_type": "code",
   "execution_count": 16,
   "id": "b8f71670-8415-430a-af8c-60873495e766",
   "metadata": {},
   "outputs": [
    {
     "data": {
      "text/plain": [
       "list"
      ]
     },
     "execution_count": 16,
     "metadata": {},
     "output_type": "execute_result"
    }
   ],
   "source": [
    "type(var3)"
   ]
  },
  {
   "cell_type": "code",
   "execution_count": 17,
   "id": "d77d548e-2d76-4e55-a623-9127ec6baf6b",
   "metadata": {},
   "outputs": [],
   "source": [
    "var4=1"
   ]
  },
  {
   "cell_type": "code",
   "execution_count": 18,
   "id": "2e9978d8-55ff-4183-96e6-4d150f9e4742",
   "metadata": {},
   "outputs": [
    {
     "data": {
      "text/plain": [
       "int"
      ]
     },
     "execution_count": 18,
     "metadata": {},
     "output_type": "execute_result"
    }
   ],
   "source": [
    "type(var4)"
   ]
  },
  {
   "cell_type": "code",
   "execution_count": 32,
   "id": "5f3623b2-2377-43e5-98fd-08c18a3d4141",
   "metadata": {},
   "outputs": [
    {
     "data": {
      "text/plain": [
       "4.5"
      ]
     },
     "execution_count": 32,
     "metadata": {},
     "output_type": "execute_result"
    }
   ],
   "source": [
    "9/2"
   ]
  },
  {
   "cell_type": "code",
   "execution_count": 21,
   "id": "5bec648f-2ea1-404f-95b0-43d3f8713684",
   "metadata": {},
   "outputs": [],
   "source": [
    "#inabove code division operation is used it simply divide numerator by denominator "
   ]
  },
  {
   "cell_type": "code",
   "execution_count": 27,
   "id": "eb220232-bfa1-4136-8bae-070aafe8d091",
   "metadata": {},
   "outputs": [
    {
     "data": {
      "text/plain": [
       "0"
      ]
     },
     "execution_count": 27,
     "metadata": {},
     "output_type": "execute_result"
    }
   ],
   "source": [
    "5%5"
   ]
  },
  {
   "cell_type": "code",
   "execution_count": 28,
   "id": "f7df79d3-d84c-4fe9-8503-8c069caa136c",
   "metadata": {},
   "outputs": [],
   "source": [
    "#inabove code modulus operator is used it divide num. by den.and give remainder as output."
   ]
  },
  {
   "cell_type": "code",
   "execution_count": 34,
   "id": "3999af95-139e-4016-92ff-5a7cb0d95df7",
   "metadata": {},
   "outputs": [
    {
     "data": {
      "text/plain": [
       "2"
      ]
     },
     "execution_count": 34,
     "metadata": {},
     "output_type": "execute_result"
    }
   ],
   "source": [
    "9//4"
   ]
  },
  {
   "cell_type": "code",
   "execution_count": null,
   "id": "b35e6dac-46ca-4967-836b-384380fd48ae",
   "metadata": {},
   "outputs": [],
   "source": [
    "#in above code division floor is used it divide num. by den. and give output as quotient."
   ]
  },
  {
   "cell_type": "code",
   "execution_count": 35,
   "id": "2075800d-2e17-40f1-a59b-5897ef2b5ae1",
   "metadata": {},
   "outputs": [
    {
     "data": {
      "text/plain": [
       "8"
      ]
     },
     "execution_count": 35,
     "metadata": {},
     "output_type": "execute_result"
    }
   ],
   "source": [
    "2**3"
   ]
  },
  {
   "cell_type": "code",
   "execution_count": 36,
   "id": "07e5ea14-4054-4244-99bb-9c08e4da90de",
   "metadata": {},
   "outputs": [],
   "source": [
    "#above is exponential code second integer will be in power of first as 2*2*2."
   ]
  },
  {
   "cell_type": "code",
   "execution_count": 38,
   "id": "8a3636e0-d905-423d-b161-dc3d3366ff11",
   "metadata": {},
   "outputs": [
    {
     "data": {
      "text/plain": [
       "243"
      ]
     },
     "execution_count": 38,
     "metadata": {},
     "output_type": "execute_result"
    }
   ],
   "source": [
    "3**5"
   ]
  },
  {
   "cell_type": "code",
   "execution_count": 39,
   "id": "52472838-0da0-4f92-b182-2f36e7ed0a67",
   "metadata": {},
   "outputs": [],
   "source": [
    "#3*3*3*3*3"
   ]
  },
  {
   "cell_type": "code",
   "execution_count": 40,
   "id": "f9abb5b9-1503-491c-9880-6f08812e1713",
   "metadata": {},
   "outputs": [],
   "source": [
    "l=[2,4,5,6,7,True,False,34.65,3+4j,'pwskill']"
   ]
  },
  {
   "cell_type": "code",
   "execution_count": 41,
   "id": "52d89584-e75e-4ffc-a070-b4cb9654708a",
   "metadata": {},
   "outputs": [
    {
     "data": {
      "text/plain": [
       "10"
      ]
     },
     "execution_count": 41,
     "metadata": {},
     "output_type": "execute_result"
    }
   ],
   "source": [
    "len(l)"
   ]
  },
  {
   "cell_type": "code",
   "execution_count": 43,
   "id": "87710f0d-95b3-455c-badb-d291b9b4225c",
   "metadata": {},
   "outputs": [
    {
     "name": "stdout",
     "output_type": "stream",
     "text": [
      "2 <class 'int'>\n",
      "4 <class 'int'>\n",
      "5 <class 'int'>\n",
      "6 <class 'int'>\n",
      "7 <class 'int'>\n",
      "True <class 'bool'>\n",
      "False <class 'bool'>\n",
      "34.65 <class 'float'>\n",
      "(3+4j) <class 'complex'>\n",
      "pwskill <class 'str'>\n"
     ]
    }
   ],
   "source": [
    "for i in l:\n",
    "    print(i,type(i))"
   ]
  },
  {
   "cell_type": "code",
   "execution_count": 64,
   "id": "2ab5925f-d98f-4396-b77c-4dfb67e5aaef",
   "metadata": {},
   "outputs": [],
   "source": [
    "l=[1,2,3,4,6,5,7,8,4,5,6,4,6,4,53,2,6,7,7,85,4,3,45,6,6]"
   ]
  },
  {
   "cell_type": "code",
   "execution_count": 65,
   "id": "7507ea9f-e64f-41c4-bb43-a74b695901e8",
   "metadata": {},
   "outputs": [
    {
     "data": {
      "text/plain": [
       "25"
      ]
     },
     "execution_count": 65,
     "metadata": {},
     "output_type": "execute_result"
    }
   ],
   "source": [
    "len(l)"
   ]
  },
  {
   "cell_type": "code",
   "execution_count": 76,
   "id": "b38d0b57-5e67-40f6-8cd1-2aa751da5af4",
   "metadata": {},
   "outputs": [
    {
     "name": "stdout",
     "output_type": "stream",
     "text": [
      "1\n",
      "2\n",
      "3\n",
      "4\n",
      "6\n",
      "5\n",
      "7\n",
      "8\n",
      "4\n",
      "5\n",
      "6\n",
      "4\n",
      "6\n",
      "4\n",
      "53\n",
      "2\n",
      "6\n",
      "7\n",
      "7\n",
      "85\n",
      "4\n",
      "3\n",
      "45\n",
      "6\n",
      "6\n"
     ]
    }
   ],
   "source": [
    "for i in l:\n",
    "    print(i)"
   ]
  },
  {
   "cell_type": "code",
   "execution_count": 79,
   "id": "f090429c-2a08-4e5e-9ed2-25efa5a683a0",
   "metadata": {},
   "outputs": [
    {
     "name": "stdout",
     "output_type": "stream",
     "text": [
      "i is not divisible by 3\n",
      "i is not divisible by 3\n",
      "i is divisible by 3\n",
      "i is not divisible by 3\n",
      "i is divisible by 3\n",
      "i is not divisible by 3\n",
      "i is not divisible by 3\n",
      "i is not divisible by 3\n",
      "i is not divisible by 3\n",
      "i is not divisible by 3\n",
      "i is divisible by 3\n",
      "i is not divisible by 3\n",
      "i is divisible by 3\n",
      "i is not divisible by 3\n",
      "i is not divisible by 3\n",
      "i is not divisible by 3\n",
      "i is divisible by 3\n",
      "i is not divisible by 3\n",
      "i is not divisible by 3\n",
      "i is not divisible by 3\n",
      "i is not divisible by 3\n",
      "i is divisible by 3\n",
      "i is divisible by 3\n",
      "i is divisible by 3\n",
      "i is divisible by 3\n"
     ]
    }
   ],
   "source": [
    "for i in l:\n",
    "    if i%3==0:\n",
    "        print('i is divisible by 3')\n",
    "    else:\n",
    "        print('i is not divisible by 3')\n",
    "    "
   ]
  },
  {
   "cell_type": "code",
   "execution_count": 80,
   "id": "4cae3ef6-aa77-4d07-8c86-ec6b7fdfa52b",
   "metadata": {},
   "outputs": [],
   "source": [
    "l=[2,3,4,'pwskill',23.45,True,34+34j]"
   ]
  },
  {
   "cell_type": "code",
   "execution_count": 81,
   "id": "95200544-a3f1-444b-81c6-7ba513cfdbeb",
   "metadata": {},
   "outputs": [
    {
     "data": {
      "text/plain": [
       "list"
      ]
     },
     "execution_count": 81,
     "metadata": {},
     "output_type": "execute_result"
    }
   ],
   "source": [
    "type(l)"
   ]
  },
  {
   "cell_type": "code",
   "execution_count": 82,
   "id": "e4ce6835-8c73-4184-8432-9a8eb27b0639",
   "metadata": {},
   "outputs": [
    {
     "data": {
      "text/plain": [
       "2"
      ]
     },
     "execution_count": 82,
     "metadata": {},
     "output_type": "execute_result"
    }
   ],
   "source": [
    "l[0]"
   ]
  },
  {
   "cell_type": "code",
   "execution_count": 83,
   "id": "f29e45cf-34af-4216-8304-3e426ff50730",
   "metadata": {},
   "outputs": [],
   "source": [
    "l[0]=100"
   ]
  },
  {
   "cell_type": "code",
   "execution_count": 84,
   "id": "53c7ca80-b531-4cbd-887c-4f68488752da",
   "metadata": {},
   "outputs": [
    {
     "data": {
      "text/plain": [
       "[100, 3, 4, 'pwskill', 23.45, True, (34+34j)]"
      ]
     },
     "execution_count": 84,
     "metadata": {},
     "output_type": "execute_result"
    }
   ],
   "source": [
    "l"
   ]
  },
  {
   "cell_type": "code",
   "execution_count": 85,
   "id": "9ebef056-487f-4839-8fab-2535eef7168a",
   "metadata": {},
   "outputs": [],
   "source": [
    "u='pwskill'"
   ]
  },
  {
   "cell_type": "code",
   "execution_count": 86,
   "id": "418f89d0-15f0-4a33-b0f0-e54e437233b5",
   "metadata": {},
   "outputs": [
    {
     "data": {
      "text/plain": [
       "str"
      ]
     },
     "execution_count": 86,
     "metadata": {},
     "output_type": "execute_result"
    }
   ],
   "source": [
    "type(u)"
   ]
  },
  {
   "cell_type": "code",
   "execution_count": 87,
   "id": "b6bf9ed1-5a33-4638-96cd-a4fa082c8115",
   "metadata": {},
   "outputs": [
    {
     "data": {
      "text/plain": [
       "'i'"
      ]
     },
     "execution_count": 87,
     "metadata": {},
     "output_type": "execute_result"
    }
   ],
   "source": [
    "u[4]"
   ]
  },
  {
   "cell_type": "code",
   "execution_count": 88,
   "id": "5d56be72-1057-41b8-8144-3fa8b7a4623e",
   "metadata": {},
   "outputs": [
    {
     "ename": "TypeError",
     "evalue": "'str' object does not support item assignment",
     "output_type": "error",
     "traceback": [
      "\u001b[0;31m---------------------------------------------------------------------------\u001b[0m",
      "\u001b[0;31mTypeError\u001b[0m                                 Traceback (most recent call last)",
      "Cell \u001b[0;32mIn[88], line 1\u001b[0m\n\u001b[0;32m----> 1\u001b[0m \u001b[43mu\u001b[49m\u001b[43m[\u001b[49m\u001b[38;5;241;43m4\u001b[39;49m\u001b[43m]\u001b[49m\u001b[38;5;241m=\u001b[39m\u001b[38;5;241m34\u001b[39m\n",
      "\u001b[0;31mTypeError\u001b[0m: 'str' object does not support item assignment"
     ]
    }
   ],
   "source": [
    "u[4]=34"
   ]
  },
  {
   "cell_type": "code",
   "execution_count": null,
   "id": "cb06c916-4f67-453e-b50d-b4bf1b9134a6",
   "metadata": {},
   "outputs": [],
   "source": [
    "# list is mutable while string is immutable object."
   ]
  },
  {
   "cell_type": "code",
   "execution_count": 2,
   "id": "fcb66542-b65c-4e58-9ab0-72503260c0f6",
   "metadata": {},
   "outputs": [],
   "source": [
    "A=9"
   ]
  },
  {
   "cell_type": "code",
   "execution_count": 3,
   "id": "2d953f8b-2fee-479e-8e92-ed6a0a409e31",
   "metadata": {},
   "outputs": [],
   "source": [
    "B=3"
   ]
  },
  {
   "cell_type": "code",
   "execution_count": null,
   "id": "177d95a5-d1a8-4064-b65f-3957ab3d2233",
   "metadata": {},
   "outputs": [],
   "source": [
    "A=9\n",
    "B=3\n",
    "while A/B==0:\n",
    "    print ('A is divisible by B')\n",
    "if A//B==k:\n",
    "    print(k)\n",
    "    \n"
   ]
  },
  {
   "cell_type": "code",
   "execution_count": null,
   "id": "b11a07a3-aaf6-4cad-974c-9d7bb52a31c5",
   "metadata": {},
   "outputs": [],
   "source": []
  },
  {
   "cell_type": "code",
   "execution_count": null,
   "id": "fc51674b-9ab5-4641-bb51-c0aa7220f9e2",
   "metadata": {},
   "outputs": [],
   "source": []
  }
 ],
 "metadata": {
  "kernelspec": {
   "display_name": "Python 3 (ipykernel)",
   "language": "python",
   "name": "python3"
  },
  "language_info": {
   "codemirror_mode": {
    "name": "ipython",
    "version": 3
   },
   "file_extension": ".py",
   "mimetype": "text/x-python",
   "name": "python",
   "nbconvert_exporter": "python",
   "pygments_lexer": "ipython3",
   "version": "3.10.8"
  }
 },
 "nbformat": 4,
 "nbformat_minor": 5
}
